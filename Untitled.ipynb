{
 "cells": [
  {
   "cell_type": "markdown",
   "metadata": {},
   "source": [
    "# Построение классификатора для Fashion-MNIST\n",
    "\n",
    "Давайте применим ваши знания в построении классификаторов изображений, основанных на сверточных нейронных сетях для набора данных Fashion MNIST. \n",
    "\n",
    "Датасет Fashion-MNIST состоит из 70 000 одноканальных черно-белых изображений размером 28 х 28 пикселей. На каждом изображении находится какой-либо элемент одежды. Всего различных элементов одежды (классов) - 10:\n",
    "\n",
    "* T-Shirt/Top\n",
    "* Trouser\n",
    "* Pullover\n",
    "* Dress\n",
    "* Coat\n",
    "* Sandals\n",
    "* Shirt\n",
    "* Sneaker\n",
    "* Bag\n",
    "* Ankle boots\n",
    "\n",
    "Данные распределены следующим образом: 60 000 изображений в обучающей выборке и 10 000 изображений в тестовой выборке.\n",
    "\n",
    "Примеры изображений из датасета Fashion-MNIST приведены на изображении ниже:"
   ]
  },
  {
   "cell_type": "markdown",
   "metadata": {},
   "source": [
    "![Fashion MNIST примеры семплов](./img/fashion_mnist.jpeg)"
   ]
  },
  {
   "cell_type": "markdown",
   "metadata": {},
   "source": [
    "Чтобы скачать данные из датасета Fashion-MNIST, можно воспользоваться следующим кодом:"
   ]
  },
  {
   "cell_type": "code",
   "execution_count": null,
   "metadata": {},
   "outputs": [],
   "source": [
    "import torchvision\n",
    "\n",
    "trainset = torchvision.datasets.FashionMNIST(train=True, ...)\n",
    "\n",
    "testset = torchvision.datasets.FashionMNIST(train=False, ...)"
   ]
  },
  {
   "cell_type": "markdown",
   "metadata": {},
   "source": [
    "В своей работе от вас требуется получить как можно большую точность (accuracy) на тестовых данных. Для этого, предполагается, что вы проведете серию экспериментов, как с архитектурой сети, так и с процессом ее обучения.\n",
    "\n",
    "Хорошей практикой в случае, когда вам нужно проводить серию экспериментов, является занесение результатов в таблицу:\n",
    "\n",
    "№ эксперимента | отличие от базовой модели | номер эпохи с максимальной точностью | максимальная точность\n",
    "\n",
    "По этому создайте гугл-таблицу и занесите в нее результаты всех ваши эксперименты"
   ]
  }
 ],
 "metadata": {
  "kernelspec": {
   "display_name": "Python 3",
   "language": "python",
   "name": "python3"
  },
  "language_info": {
   "codemirror_mode": {
    "name": "ipython",
    "version": 3
   },
   "file_extension": ".py",
   "mimetype": "text/x-python",
   "name": "python",
   "nbconvert_exporter": "python",
   "pygments_lexer": "ipython3",
   "version": "3.7.3"
  }
 },
 "nbformat": 4,
 "nbformat_minor": 2
}
